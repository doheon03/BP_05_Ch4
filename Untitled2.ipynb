{
  "nbformat": 4,
  "nbformat_minor": 0,
  "metadata": {
    "colab": {
      "provenance": [],
      "authorship_tag": "ABX9TyNBZoHP2bpbVsrgdG1DubcV",
      "include_colab_link": true
    },
    "kernelspec": {
      "name": "python3",
      "display_name": "Python 3"
    },
    "language_info": {
      "name": "python"
    }
  },
  "cells": [
    {
      "cell_type": "markdown",
      "metadata": {
        "id": "view-in-github",
        "colab_type": "text"
      },
      "source": [
        "<a href=\"https://colab.research.google.com/github/doheon03/BP_05_Ch4/blob/main/Untitled2.ipynb\" target=\"_parent\"><img src=\"https://colab.research.google.com/assets/colab-badge.svg\" alt=\"Open In Colab\"/></a>"
      ]
    },
    {
      "cell_type": "markdown",
      "source": [
        "1.왜 다음과 같은 수식이 오류를 발생시키는가? 올바르게  수정하라."
      ],
      "metadata": {
        "id": "7o6n72Z4WBHb"
      }
    },
    {
      "cell_type": "code",
      "source": [
        "print('나는'+ '12' +'개의 사과를 먹었다.')\n",
        "#print 넣는거 빼먹지 말기!"
      ],
      "metadata": {
        "colab": {
          "base_uri": "https://localhost:8080/"
        },
        "id": "-Txk35CQWIIM",
        "outputId": "6d33d2e7-4392-48b4-9915-b1b510c30781"
      },
      "execution_count": null,
      "outputs": [
        {
          "output_type": "stream",
          "name": "stdout",
          "text": [
            "나는12개의 사과를 먹었다.\n"
          ]
        }
      ]
    },
    {
      "cell_type": "markdown",
      "source": [
        "2.다음과 같은 수식을 계산하면 결과는 무엇인가?"
      ],
      "metadata": {
        "id": "VQxcyzv8WZFn"
      }
    },
    {
      "cell_type": "code",
      "source": [
        "print('apple' + 'grape')\n",
        "print('apple' * 3)\n",
        "#print 빼먹지 말기!"
      ],
      "metadata": {
        "colab": {
          "base_uri": "https://localhost:8080/"
        },
        "id": "lO6XVCBAWhay",
        "outputId": "0be9acbc-1d13-4f88-ecdb-bcad64f40bde"
      },
      "execution_count": null,
      "outputs": [
        {
          "output_type": "stream",
          "name": "stdout",
          "text": [
            "applegrape\n",
            "appleappleapple\n"
          ]
        }
      ]
    },
    {
      "cell_type": "markdown",
      "source": [
        "3.다음과 같이 사용자가 입력한 문자열 중에서 처음 2글자와 마지막 2글자를 추출한후에 이들을 합쳐서 출력해보자."
      ],
      "metadata": {
        "id": "CEgW1-7qW3ka"
      }
    },
    {
      "cell_type": "code",
      "source": [
        "str= input(\"문자열을 입력하시오\")\n",
        "s = str[0:2] + str[-2:]\n",
        "print(s)\n",
        "#세타는 0이다 !"
      ],
      "metadata": {
        "id": "CiizOQfvXGMS",
        "outputId": "2f0d9f80-e5d9-4a45-9162-3a4b499972cd",
        "colab": {
          "base_uri": "https://localhost:8080/"
        }
      },
      "execution_count": null,
      "outputs": [
        {
          "output_type": "stream",
          "name": "stdout",
          "text": [
            "문자열을 입력하시오python\n",
            "pyon\n"
          ]
        }
      ]
    },
    {
      "cell_type": "markdown",
      "source": [
        "4.다음과 같이 사용자가 입력한 문자열 뒤에 항상\"하는중\"을 붙이는 프로그램을 작성해 보자.\n"
      ],
      "metadata": {
        "id": "LI3C9l1uc7tX"
      }
    },
    {
      "cell_type": "code",
      "source": [
        "s = input(\"문자열을 입력하시오:\")\n",
        "s += \"하는중\"\n",
        "print(s)\n",
        "#input 넣기!"
      ],
      "metadata": {
        "id": "12sKdbK8dNRd",
        "outputId": "59d44c87-30bd-4701-a033-7a4a34eaa799",
        "colab": {
          "base_uri": "https://localhost:8080/"
        }
      },
      "execution_count": null,
      "outputs": [
        {
          "output_type": "stream",
          "name": "stdout",
          "text": [
            "문자열을 입력하시오:공부\n",
            "공부하는중\n"
          ]
        }
      ]
    },
    {
      "cell_type": "markdown",
      "source": [
        "5.사용자가 입력한 가호 안에 문자열을 삽입하려면 어떻게 해야 하는가? 가호는 문자 2 개로 이루어 있다고 가정한다."
      ],
      "metadata": {
        "id": "EoD-Gm5sd6OT"
      }
    },
    {
      "cell_type": "code",
      "source": [
        "str = input(\"가호를 입력하시오.\")\n",
        "word = input(\"중간에 삽입할 문자열을 입력하시오.\")\n",
        "s = str[:1] + word + str[1:]\n",
        "\n",
        "print(s)\n",
        "#가호,문자열 넣기!"
      ],
      "metadata": {
        "id": "9gsmhqjqeBxL",
        "outputId": "7e4a0f90-0fab-47da-8449-87d790f999d9",
        "colab": {
          "base_uri": "https://localhost:8080/"
        }
      },
      "execution_count": null,
      "outputs": [
        {
          "output_type": "stream",
          "name": "stdout",
          "text": [
            "가호를 입력하시오.[]\n",
            "중간에 삽입할 문자열을 입력하시오.python\n",
            "[python]\n"
          ]
        }
      ]
    },
    {
      "cell_type": "markdown",
      "source": [
        "6. 4개의 숫자가 들어 있는 리스트가 있다.리스트 안의 숫자들을 꺼내서 합계를 계산하여 출력하는 프로그램을 작성하여라.반복문은 사용하지 않는다.리스트의 길이는 항상 4라고 가정한다."
      ],
      "metadata": {
        "id": "QnQhLOf_e30O"
      }
    },
    {
      "cell_type": "code",
      "source": [
        "lista = [1,2,3,4]\n",
        "sum = 0\n",
        "sum = lista[0] + lista[1] + lista[2] + lista[3]\n",
        "print(\"리스트 = \",lista)\n",
        "print(\"리스트 숫자들의 합 =\",sum)\n",
        "#lista 에서 1,2,3,4 는 인덱스 값에서 0,1,2,3으로 표현!"
      ],
      "metadata": {
        "id": "VeSMQzTgfFdk",
        "outputId": "ea5a7453-33fc-4a96-bc5e-0657cf489f1c",
        "colab": {
          "base_uri": "https://localhost:8080/"
        }
      },
      "execution_count": null,
      "outputs": [
        {
          "output_type": "stream",
          "name": "stdout",
          "text": [
            "리스트 =  [1, 2, 3, 4]\n",
            "리스트 숫자들의 합 = 10\n"
          ]
        }
      ]
    },
    {
      "cell_type": "markdown",
      "source": [
        "7.사용자가 입력하는 3가지 색상을 리스트에 저장하였다가 한씩 꺼내서 그 색상으로 채워진 원을 그리는 프로그램을 작성해보자.반복문은 사용하지 않는다.채워진 원을 그리려면 다음과 같은 문장들을 사용한다."
      ],
      "metadata": {
        "id": "qLs5YiC-gLAZ"
      }
    },
    {
      "cell_type": "code",
      "source": [
        "import turtle\n",
        " t = turtle.Turtle()\n",
        "  t.shape(\"turtle\")\n",
        "lista = []\n",
        "color= input(\"색상 #1을 입력하시오 :\")\n",
        "color= input(\"색상 #2을 입력하시오 :\")\n",
        "color= input(\"색상 #3을 입력하시오 :\")\n",
        "lista.append(color)\n",
        "#input 잘넣기!\n",
        "\n",
        "t.fillcolor(lista[0])\n",
        "t.begin_fill()\n",
        "t.circle(50)\n",
        "t.end_fil\n",
        "t.up()\n",
        "t.goto(100,0)\n",
        "t.down()\n",
        "t.fillcolor(lista[1])\n",
        "t.begin_fill()\n",
        "t.circle(50)\n",
        "t.end_fi)\n",
        "t.up()\n",
        "t.goto(200,0)\n"
      ],
      "metadata": {
        "id": "jDt8Rk6kgX1K",
        "outputId": "1f437d38-43ea-4e00-d692-a8a035a744b0",
        "colab": {
          "base_uri": "https://localhost:8080/",
          "height": 137
        }
      },
      "execution_count": null,
      "outputs": [
        {
          "output_type": "error",
          "ename": "IndentationError",
          "evalue": "ignored",
          "traceback": [
            "\u001b[0;36m  File \u001b[0;32m\"<ipython-input-17-41ddc4c36d54>\"\u001b[0;36m, line \u001b[0;32m2\u001b[0m\n\u001b[0;31m    t = turtle.Turtle()\u001b[0m\n\u001b[0m    ^\u001b[0m\n\u001b[0;31mIndentationError\u001b[0m\u001b[0;31m:\u001b[0m unexpected indent\n"
          ]
        }
      ]
    },
    {
      "cell_type": "markdown",
      "source": [
        "8.사용자가 입력하는 3개의 좌표(x,y)를 리스트에 저장한다. 이들 좌표를 꺼내서 거북이를 이동하는 프로그램을 작성해보자."
      ],
      "metadata": {
        "id": "gRdckh6Ijt70"
      }
    },
    {
      "cell_type": "code",
      "source": [
        "import turtle\n",
        " t = turtle.Turtle()\n",
        "  t.shape(\"turtle\")\n",
        "\n",
        "lista = []\n",
        "lista.append(int(input(\"x1:\")))\n",
        "\n",
        "lista.append(int(input(\"y1:\")))\n",
        "lista.append(int(input(\"x2:\")))\n",
        "lista.append(int(input(\"y2:\")))\n",
        "lista.append(int(input(\"x3:\")))\n",
        "lista.append(int(input(\"y3:\")))\n",
        "\n",
        "t.goto(lista[0],lista[1])\n",
        "t.goto(lista[2],lista[3])\n",
        "t.goto(lista[4],lista[5])\n",
        "t._screen.exitonclick()\n",
        "\n",
        "\n",
        "#append : 덧붙히다 !  input 조심!\n",
        "\n",
        "\n",
        "\n"
      ],
      "metadata": {
        "id": "xXqXJM8yj2ww",
        "outputId": "bcaab6ff-838d-489e-da21-096d778decde",
        "colab": {
          "base_uri": "https://localhost:8080/",
          "height": 137
        }
      },
      "execution_count": null,
      "outputs": [
        {
          "output_type": "error",
          "ename": "IndentationError",
          "evalue": "ignored",
          "traceback": [
            "\u001b[0;36m  File \u001b[0;32m\"<ipython-input-18-9c0df22ca87c>\"\u001b[0;36m, line \u001b[0;32m2\u001b[0m\n\u001b[0;31m    t = turtle.Turtle()\u001b[0m\n\u001b[0m    ^\u001b[0m\n\u001b[0;31mIndentationError\u001b[0m\u001b[0;31m:\u001b[0m unexpected indent\n"
          ]
        }
      ]
    }
  ]
}