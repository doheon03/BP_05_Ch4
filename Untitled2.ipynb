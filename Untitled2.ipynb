{
  "nbformat": 4,
  "nbformat_minor": 0,
  "metadata": {
    "colab": {
      "provenance": [],
      "authorship_tag": "ABX9TyP+AII0vKzDbyFCynjZnLeZ",
      "include_colab_link": true
    },
    "kernelspec": {
      "name": "python3",
      "display_name": "Python 3"
    },
    "language_info": {
      "name": "python"
    }
  },
  "cells": [
    {
      "cell_type": "markdown",
      "metadata": {
        "id": "view-in-github",
        "colab_type": "text"
      },
      "source": [
        "<a href=\"https://colab.research.google.com/github/doheon03/BP_05_Ch4/blob/main/Untitled2.ipynb\" target=\"_parent\"><img src=\"https://colab.research.google.com/assets/colab-badge.svg\" alt=\"Open In Colab\"/></a>"
      ]
    },
    {
      "cell_type": "code",
      "execution_count": null,
      "metadata": {
        "id": "APOhU7x9WAsw"
      },
      "outputs": [],
      "source": []
    },
    {
      "cell_type": "markdown",
      "source": [
        "1.왜 다음과 같은 수식이 오류를 발생시키는가? 올바르게  수정하라."
      ],
      "metadata": {
        "id": "7o6n72Z4WBHb"
      }
    },
    {
      "cell_type": "code",
      "source": [
        "'나는'+ '12' +'개의 사과를 먹었다.'"
      ],
      "metadata": {
        "colab": {
          "base_uri": "https://localhost:8080/",
          "height": 36
        },
        "id": "-Txk35CQWIIM",
        "outputId": "d1e4ff10-259b-4d69-8ebc-5f12e82ff617"
      },
      "execution_count": 1,
      "outputs": [
        {
          "output_type": "execute_result",
          "data": {
            "text/plain": [
              "'나는12개의 사과를 먹었다.'"
            ],
            "application/vnd.google.colaboratory.intrinsic+json": {
              "type": "string"
            }
          },
          "metadata": {},
          "execution_count": 1
        }
      ]
    },
    {
      "cell_type": "markdown",
      "source": [
        "2.다음과 같은 수식을 계산하면 결과는 무엇인가?"
      ],
      "metadata": {
        "id": "VQxcyzv8WZFn"
      }
    },
    {
      "cell_type": "code",
      "source": [
        "'apple' + 'grape'\n",
        "'apple' * 3"
      ],
      "metadata": {
        "colab": {
          "base_uri": "https://localhost:8080/",
          "height": 36
        },
        "id": "lO6XVCBAWhay",
        "outputId": "68366919-0564-4f63-b737-cf06dec6a6e7"
      },
      "execution_count": 4,
      "outputs": [
        {
          "output_type": "execute_result",
          "data": {
            "text/plain": [
              "'appleappleapple'"
            ],
            "application/vnd.google.colaboratory.intrinsic+json": {
              "type": "string"
            }
          },
          "metadata": {},
          "execution_count": 4
        }
      ]
    },
    {
      "cell_type": "markdown",
      "source": [
        "3.다음과 같이 사용자가 입력한 문자열 중에서 처음 2글자와 마지막 2글자를 추출한후에 이들을 합쳐서 출력해보자."
      ],
      "metadata": {
        "id": "CEgW1-7qW3ka"
      }
    },
    {
      "cell_type": "code",
      "source": [],
      "metadata": {
        "id": "CiizOQfvXGMS"
      },
      "execution_count": 10,
      "outputs": []
    }
  ]
}